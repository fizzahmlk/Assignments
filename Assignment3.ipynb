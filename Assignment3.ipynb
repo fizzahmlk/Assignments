{
 "cells": [
  {
   "cell_type": "markdown",
   "metadata": {},
   "source": [
    "# Do more years of education lead to an increase in labor force participation of women?"
   ]
  },
  {
   "cell_type": "markdown",
   "metadata": {},
   "source": [
    "Fizzah Malik (975391), Binh Nguyen (150141), Ananya Velamakanni (349166), January 30th, 2017\n",
    "\n",
    "This notebook shows an easy way to apply a regression model in Python. We examine the relation between woman’s education and her decision to participate in labor force by means of a regression model. We have used the data from the [easySHARE](http://www.share-project.org/data-access-documentation/easyshare.html) panel collected by Tilburg University’s CentER.\n",
    "The python code and data used in this notebook can be found at [github](insert link)."
   ]
  },
  {
   "cell_type": "markdown",
   "metadata": {},
   "source": [
    "## Question"
   ]
  },
   {
   "cell_type": "markdown",
   "metadata": {},
   "source": [
    "## Does an increase in education have an impact on labor force participation?"
   ]
  },
   {
   "cell_type": "markdown",
   "metadata": {},
   "source": [
    "## Motivation"
   ]
  },
 {
   "cell_type": "markdown",
   "metadata": {},
   "source": [
    "## Method"
   ]
  }
